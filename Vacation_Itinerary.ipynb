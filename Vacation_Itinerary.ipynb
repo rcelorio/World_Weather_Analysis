{
 "cells": [
  {
   "cell_type": "code",
   "execution_count": 16,
   "metadata": {},
   "outputs": [],
   "source": [
    "# Import the dependencies.\n",
    "import pandas as pd\n",
    "import gmaps\n",
    "import requests\n",
    "# Import the API key.\n",
    "from config import g_key\n",
    "import os"
   ]
  },
  {
   "cell_type": "code",
   "execution_count": 17,
   "metadata": {},
   "outputs": [
    {
     "data": {
      "text/html": [
       "<div>\n",
       "<style scoped>\n",
       "    .dataframe tbody tr th:only-of-type {\n",
       "        vertical-align: middle;\n",
       "    }\n",
       "\n",
       "    .dataframe tbody tr th {\n",
       "        vertical-align: top;\n",
       "    }\n",
       "\n",
       "    .dataframe thead th {\n",
       "        text-align: right;\n",
       "    }\n",
       "</style>\n",
       "<table border=\"1\" class=\"dataframe\">\n",
       "  <thead>\n",
       "    <tr style=\"text-align: right;\">\n",
       "      <th></th>\n",
       "      <th>City_ID</th>\n",
       "      <th>City</th>\n",
       "      <th>Lat</th>\n",
       "      <th>Lng</th>\n",
       "      <th>Max Temp</th>\n",
       "      <th>Humidity</th>\n",
       "      <th>Cloudiness</th>\n",
       "      <th>Wind Speed</th>\n",
       "      <th>Country</th>\n",
       "      <th>Description</th>\n",
       "      <th>Rain</th>\n",
       "      <th>Snow</th>\n",
       "      <th>Date</th>\n",
       "    </tr>\n",
       "  </thead>\n",
       "  <tbody>\n",
       "    <tr>\n",
       "      <th>0</th>\n",
       "      <td>0</td>\n",
       "      <td>Qaanaaq</td>\n",
       "      <td>77.48</td>\n",
       "      <td>-69.36</td>\n",
       "      <td>-14.51</td>\n",
       "      <td>58</td>\n",
       "      <td>0</td>\n",
       "      <td>5.61</td>\n",
       "      <td>GL</td>\n",
       "      <td>clear sky</td>\n",
       "      <td>0.00</td>\n",
       "      <td>0.0</td>\n",
       "      <td>2020-02-20 22:46:30</td>\n",
       "    </tr>\n",
       "    <tr>\n",
       "      <th>1</th>\n",
       "      <td>1</td>\n",
       "      <td>Hobart</td>\n",
       "      <td>-42.88</td>\n",
       "      <td>147.33</td>\n",
       "      <td>61.00</td>\n",
       "      <td>44</td>\n",
       "      <td>40</td>\n",
       "      <td>13.87</td>\n",
       "      <td>AU</td>\n",
       "      <td>light rain</td>\n",
       "      <td>0.25</td>\n",
       "      <td>0.0</td>\n",
       "      <td>2020-02-20 22:46:30</td>\n",
       "    </tr>\n",
       "    <tr>\n",
       "      <th>2</th>\n",
       "      <td>2</td>\n",
       "      <td>Albany</td>\n",
       "      <td>42.60</td>\n",
       "      <td>-73.97</td>\n",
       "      <td>26.60</td>\n",
       "      <td>38</td>\n",
       "      <td>1</td>\n",
       "      <td>16.11</td>\n",
       "      <td>US</td>\n",
       "      <td>clear sky</td>\n",
       "      <td>0.00</td>\n",
       "      <td>0.0</td>\n",
       "      <td>2020-02-20 22:45:03</td>\n",
       "    </tr>\n",
       "    <tr>\n",
       "      <th>3</th>\n",
       "      <td>3</td>\n",
       "      <td>Port Alfred</td>\n",
       "      <td>-33.59</td>\n",
       "      <td>26.89</td>\n",
       "      <td>68.00</td>\n",
       "      <td>92</td>\n",
       "      <td>59</td>\n",
       "      <td>6.04</td>\n",
       "      <td>ZA</td>\n",
       "      <td>broken clouds</td>\n",
       "      <td>0.00</td>\n",
       "      <td>0.0</td>\n",
       "      <td>2020-02-20 22:46:31</td>\n",
       "    </tr>\n",
       "    <tr>\n",
       "      <th>4</th>\n",
       "      <td>4</td>\n",
       "      <td>Najran</td>\n",
       "      <td>17.49</td>\n",
       "      <td>44.13</td>\n",
       "      <td>73.40</td>\n",
       "      <td>35</td>\n",
       "      <td>53</td>\n",
       "      <td>4.70</td>\n",
       "      <td>SA</td>\n",
       "      <td>broken clouds</td>\n",
       "      <td>0.00</td>\n",
       "      <td>0.0</td>\n",
       "      <td>2020-02-20 22:46:32</td>\n",
       "    </tr>\n",
       "  </tbody>\n",
       "</table>\n",
       "</div>"
      ],
      "text/plain": [
       "   City_ID         City    Lat     Lng  Max Temp  Humidity  Cloudiness  \\\n",
       "0        0      Qaanaaq  77.48  -69.36    -14.51        58           0   \n",
       "1        1       Hobart -42.88  147.33     61.00        44          40   \n",
       "2        2       Albany  42.60  -73.97     26.60        38           1   \n",
       "3        3  Port Alfred -33.59   26.89     68.00        92          59   \n",
       "4        4       Najran  17.49   44.13     73.40        35          53   \n",
       "\n",
       "   Wind Speed Country    Description  Rain  Snow                 Date  \n",
       "0        5.61      GL      clear sky  0.00   0.0  2020-02-20 22:46:30  \n",
       "1       13.87      AU     light rain  0.25   0.0  2020-02-20 22:46:30  \n",
       "2       16.11      US      clear sky  0.00   0.0  2020-02-20 22:45:03  \n",
       "3        6.04      ZA  broken clouds  0.00   0.0  2020-02-20 22:46:31  \n",
       "4        4.70      SA  broken clouds  0.00   0.0  2020-02-20 22:46:32  "
      ]
     },
     "execution_count": 17,
     "metadata": {},
     "output_type": "execute_result"
    }
   ],
   "source": [
    "# open csv from part 1\n",
    "city_data_df = pd.read_csv(os.path.join(\"weather_data\",\"WeatherPy_challenge.csv\"))\n",
    "city_data_df.head()"
   ]
  },
  {
   "cell_type": "code",
   "execution_count": 19,
   "metadata": {},
   "outputs": [],
   "source": [
    "#create separate df's from the csv\n",
    "paloalto_city_df = city_data_df.loc[city_data_df[\"City\"] == \"Palo Alto\"]\n",
    "hillsborough_city_df = city_data_df.loc[city_data_df[\"City\"] == \"Hillsborough\"]\n",
    "halfmoon_city_df = city_data_df.loc[city_data_df[\"City\"] == \"Half Moon Bay\"]\n",
    "pacificgrove_city_df = city_data_df.loc[city_data_df[\"City\"] == \"Pacific Grove\"]\n",
    "selma_city_df = city_data_df.loc[city_data_df[\"City\"] == \"Selma\"]"
   ]
  },
  {
   "cell_type": "code",
   "execution_count": 26,
   "metadata": {},
   "outputs": [],
   "source": [
    "# Configure gmaps to use your Google API key.\n",
    "gmaps.configure(api_key=g_key)"
   ]
  },
  {
   "cell_type": "markdown",
   "metadata": {},
   "source": [
    "## Map figure with directions layer"
   ]
  },
  {
   "cell_type": "code",
   "execution_count": 70,
   "metadata": {},
   "outputs": [
    {
     "data": {
      "application/vnd.jupyter.widget-view+json": {
       "model_id": "b5ee865a0e864d46890933190e86c443",
       "version_major": 2,
       "version_minor": 0
      },
      "text/plain": [
       "Figure(layout=FigureLayout(height='420px'))"
      ]
     },
     "metadata": {},
     "output_type": "display_data"
    }
   ],
   "source": [
    "# Latitude-longitude pairs\n",
    "paloalto_lat_long = tuple([x for x in paloalto_city_df[[\"Lat\",\"Lng\"]].to_records(index=False)][0])\n",
    "hillsborough_lat_long = tuple([x for x in hillsborough_city_df[[\"Lat\",\"Lng\"]].to_records(index=False)][0])\n",
    "halfmoon_lat_long = tuple([x for x in halfmoon_city_df[[\"Lat\",\"Lng\"]].to_records(index=False)][0])\n",
    "pacificgrove_lat_long = tuple([x for x in pacificgrove_city_df[[\"Lat\",\"Lng\"]].to_records(index=False)][0])\n",
    "selma_lat_long = tuple([x for x in selma_city_df[[\"Lat\",\"Lng\"]].to_records(index=False)][0])\n",
    "\n",
    "# Create the figure with directions layer\n",
    "fig = gmaps.figure()\n",
    "norcal_directions_layer = gmaps.directions_layer(paloalto_lat_long,\n",
    "                                                 selma_lat_long,\n",
    "                                                 waypoints=[hillsborough_lat_long,halfmoon_lat_long,pacificgrove_lat_long],\n",
    "                                                 travel_mode=\"DRIVING\")\n",
    "fig.add_layer(norcal_directions_layer)\n",
    "fig"
   ]
  },
  {
   "cell_type": "code",
   "execution_count": null,
   "metadata": {},
   "outputs": [],
   "source": []
  },
  {
   "cell_type": "code",
   "execution_count": null,
   "metadata": {},
   "outputs": [],
   "source": []
  },
  {
   "cell_type": "code",
   "execution_count": null,
   "metadata": {},
   "outputs": [],
   "source": []
  }
 ],
 "metadata": {
  "kernelspec": {
   "display_name": "Python 3",
   "language": "python",
   "name": "python3"
  },
  "language_info": {
   "codemirror_mode": {
    "name": "ipython",
    "version": 3
   },
   "file_extension": ".py",
   "mimetype": "text/x-python",
   "name": "python",
   "nbconvert_exporter": "python",
   "pygments_lexer": "ipython3",
   "version": "3.7.6"
  }
 },
 "nbformat": 4,
 "nbformat_minor": 4
}
